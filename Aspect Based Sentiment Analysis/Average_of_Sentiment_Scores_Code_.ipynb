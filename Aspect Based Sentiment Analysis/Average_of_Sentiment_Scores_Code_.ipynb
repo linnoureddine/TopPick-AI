{
  "nbformat": 4,
  "nbformat_minor": 0,
  "metadata": {
    "colab": {
      "provenance": []
    },
    "kernelspec": {
      "name": "python3",
      "display_name": "Python 3"
    },
    "language_info": {
      "name": "python"
    }
  },
  "cells": [
    {
      "cell_type": "code",
      "execution_count": null,
      "metadata": {
        "id": "N-R3wDZCYEOa"
      },
      "outputs": [],
      "source": [
        "import pandas as pd\n",
        "import os\n",
        "from google.colab import files\n",
        "\n",
        "REVIEWS_FOLDER =  '/content/drive/MyDrive/reqs&reviews/Features 17'\n",
        "MAIN_DATASET_PATH = '/content/drive/MyDrive/reqs&reviews/Features Avg to Fill.csv'\n",
        "OUTPUT_FILE = 'laptops_with_avg_sentiment.csv'\n",
        "\n",
        "all_reviews = []\n",
        "for filename in sorted(os.listdir(REVIEWS_FOLDER)):\n",
        "    if filename.endswith('.csv'):\n",
        "        filepath = os.path.join(REVIEWS_FOLDER, filename)\n",
        "        try:\n",
        "            df = pd.read_csv(filepath, encoding='utf-8')\n",
        "        except UnicodeDecodeError:\n",
        "            df = pd.read_csv(filepath, encoding='ISO-8859-1')\n",
        "        all_reviews.append(df)\n",
        "\n",
        "reviews_df = pd.concat(all_reviews, ignore_index=True)\n",
        "\n",
        "feature_cols = ['Performance', 'Build quality', 'Battery life', 'Display', 'Gaming',\n",
        "                'Graphics', 'Sound', 'Fans', 'Cooling system', 'Weight', 'Price']\n",
        "\n",
        "reviews_df[feature_cols] = reviews_df[feature_cols].replace(0, pd.NA)\n",
        "\n",
        "avg_scores = reviews_df.groupby('id')[feature_cols].mean()\n",
        "\n",
        "avg_scores = avg_scores.round(7)\n",
        "\n",
        "avg_scores = avg_scores.astype('float64')\n",
        "\n",
        "try:\n",
        "    main_df = pd.read_csv(MAIN_DATASET_PATH, encoding='utf-8')\n",
        "except UnicodeDecodeError:\n",
        "    main_df = pd.read_csv(MAIN_DATASET_PATH, encoding='ISO-8859-1')\n",
        "\n",
        "main_df.set_index('id', inplace=True)\n",
        "for col in feature_cols:\n",
        "    if col in main_df.columns:\n",
        "        main_df[col] = avg_scores[col].astype('float64')\n",
        "main_df.reset_index(inplace=True)\n",
        "\n",
        "main_df[feature_cols] = main_df[feature_cols].fillna(0)\n",
        "\n",
        "main_df.reset_index(inplace=True)\n",
        "\n",
        "main_df.to_csv(OUTPUT_FILE, index=False, float_format='%.7f')\n",
        "files.download(OUTPUT_FILE)"
      ]
    }
  ]
}